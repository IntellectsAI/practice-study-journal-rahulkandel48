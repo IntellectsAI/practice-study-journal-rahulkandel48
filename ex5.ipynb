{
 "cells": [
  {
   "attachments": {},
   "cell_type": "markdown",
   "metadata": {},
   "source": [
    "Loading the dataset and defining the model"
   ]
  },
  {
   "cell_type": "code",
   "execution_count": 7,
   "metadata": {},
   "outputs": [],
   "source": [
    "#import necessary libraries\n",
    "import numpy as np\n",
    "from tensorflow import keras\n"
   ]
  },
  {
   "cell_type": "code",
   "execution_count": 8,
   "metadata": {},
   "outputs": [],
   "source": [
    "\n",
    "# Load the MNIST dataset\n",
    "(X_train, y_train), (X_test, y_test) = keras.datasets.mnist.load_data()\n"
   ]
  },
  {
   "cell_type": "code",
   "execution_count": 9,
   "metadata": {},
   "outputs": [],
   "source": [
    "# Normalize the input images\n",
    "X_train = X_train.astype(np.float32) / 255.0\n",
    "X_test = X_test.astype(np.float32) / 255.0"
   ]
  },
  {
   "cell_type": "code",
   "execution_count": 10,
   "metadata": {},
   "outputs": [],
   "source": [
    "# Flatten the images\n",
    "X_train = X_train.reshape(-1, 28 * 28)\n",
    "X_test = X_test.reshape(-1, 28 * 28)\n"
   ]
  },
  {
   "cell_type": "code",
   "execution_count": 11,
   "metadata": {},
   "outputs": [],
   "source": [
    "# Convert labels to one-hot encoded vectors\n",
    "y_train = keras.utils.to_categorical(y_train)\n",
    "y_test = keras.utils.to_categorical(y_test)"
   ]
  },
  {
   "cell_type": "code",
   "execution_count": 12,
   "metadata": {},
   "outputs": [],
   "source": [
    "# Define the model\n",
    "model = keras.models.Sequential([\n",
    "    keras.layers.Dense(300, activation=\"relu\", input_shape=(28 * 28,)),\n",
    "    keras.layers.Dense(100, activation=\"relu\"),\n",
    "    keras.layers.Dense(10, activation=\"softmax\")\n",
    "])\n"
   ]
  },
  {
   "cell_type": "code",
   "execution_count": 14,
   "metadata": {},
   "outputs": [],
   "source": [
    "# Define the learning rate range for exploration\n",
    "min_lr = 1e-5\n",
    "max_lr = 1e-1\n"
   ]
  },
  {
   "attachments": {},
   "cell_type": "markdown",
   "metadata": {},
   "source": [
    "Defining the learning rate and training the model"
   ]
  },
  {
   "cell_type": "code",
   "execution_count": 15,
   "metadata": {},
   "outputs": [],
   "source": [
    "# Define a callback to track learning rate and losses\n",
    "class LearningRateTracker(keras.callbacks.Callback):\n",
    "    def __init__(self):\n",
    "        super(LearningRateTracker, self).__init__()\n",
    "        self.lrates = []\n",
    "        self.losses = []\n",
    "\n",
    "    def on_batch_end(self, batch, logs=None):\n",
    "        optimizer = self.model.optimizer\n",
    "        lr = keras.backend.get_value(optimizer.lr)\n",
    "        self.lrates.append(lr)\n",
    "        self.losses.append(logs[\"loss\"])\n"
   ]
  },
  {
   "cell_type": "code",
   "execution_count": 22,
   "metadata": {},
   "outputs": [
    {
     "name": "stdout",
     "output_type": "stream",
     "text": [
      "Epoch 1/18\n",
      "469/469 [==============================] - 2s 4ms/step - loss: 0.0129 - accuracy: 0.9956\n",
      "Epoch 2/18\n",
      "469/469 [==============================] - 2s 4ms/step - loss: 0.0063 - accuracy: 0.9979\n",
      "Epoch 3/18\n",
      "469/469 [==============================] - 2s 4ms/step - loss: 0.0077 - accuracy: 0.9976\n",
      "Epoch 4/18\n",
      "469/469 [==============================] - 2s 4ms/step - loss: 0.0102 - accuracy: 0.9966\n",
      "Epoch 5/18\n",
      "469/469 [==============================] - 2s 4ms/step - loss: 0.0074 - accuracy: 0.9976\n",
      "Epoch 6/18\n",
      "469/469 [==============================] - 2s 4ms/step - loss: 0.0084 - accuracy: 0.9973\n",
      "Epoch 7/18\n",
      "469/469 [==============================] - 2s 4ms/step - loss: 0.0052 - accuracy: 0.9984\n",
      "Epoch 8/18\n",
      "469/469 [==============================] - 2s 4ms/step - loss: 0.0064 - accuracy: 0.9979\n",
      "Epoch 9/18\n",
      "469/469 [==============================] - 2s 4ms/step - loss: 0.0057 - accuracy: 0.9980\n",
      "Epoch 10/18\n",
      "469/469 [==============================] - 2s 4ms/step - loss: 0.0081 - accuracy: 0.9974\n",
      "Epoch 11/18\n",
      "469/469 [==============================] - 2s 4ms/step - loss: 0.0070 - accuracy: 0.9979\n",
      "Epoch 12/18\n",
      "469/469 [==============================] - 2s 4ms/step - loss: 0.0044 - accuracy: 0.9985\n",
      "Epoch 13/18\n",
      "469/469 [==============================] - 2s 4ms/step - loss: 0.0081 - accuracy: 0.9976\n",
      "Epoch 14/18\n",
      "469/469 [==============================] - 2s 4ms/step - loss: 0.0029 - accuracy: 0.9992\n",
      "Epoch 15/18\n",
      "469/469 [==============================] - 2s 4ms/step - loss: 0.0038 - accuracy: 0.9989\n",
      "Epoch 16/18\n",
      "469/469 [==============================] - 1s 3ms/step - loss: 0.0082 - accuracy: 0.9975\n",
      "Epoch 17/18\n",
      "469/469 [==============================] - 2s 3ms/step - loss: 0.0044 - accuracy: 0.9984\n",
      "Epoch 18/18\n",
      "469/469 [==============================] - 2s 4ms/step - loss: 0.0073 - accuracy: 0.9976\n"
     ]
    },
    {
     "data": {
      "text/plain": [
       "<keras.src.callbacks.History at 0x2eb55fb90>"
      ]
     },
     "execution_count": 22,
     "metadata": {},
     "output_type": "execute_result"
    }
   ],
   "source": [
    "# Compile the model\n",
    "model.compile(loss=\"categorical_crossentropy\", optimizer=\"adam\", metrics=[\"accuracy\"])\n",
    "\n",
    "# Define the learning rate tracker callback\n",
    "lr_tracker = LearningRateTracker()\n",
    "\n",
    "# Train the model\n",
    "model.fit(X_train, y_train, epochs=18, batch_size=128, callbacks=[lr_tracker])\n"
   ]
  },
  {
   "cell_type": "code",
   "execution_count": 23,
   "metadata": {},
   "outputs": [
    {
     "data": {
      "image/png": "[encoded data removed]",
      "text/plain": [
       "<Figure size 640x480 with 1 Axes>"
      ]
     },
     "metadata": {},
     "output_type": "display_data"
    }
   ],
   "source": [
    "# Plot the learning rate versus loss\n",
    "plt.plot(lr_tracker.lrates, lr_tracker.losses)\n",
    "plt.gca().set_xscale('log')\n",
    "plt.xlabel('Learning Rate')\n",
    "plt.ylabel('Loss')\n",
    "plt.show()\n"
   ]
  },
  {
   "cell_type": "code",
   "execution_count": 24,
   "metadata": {},
   "outputs": [
    {
     "name": "stdout",
     "output_type": "stream",
     "text": [
      "313/313 [==============================] - 0s 1ms/step - loss: 0.1081 - accuracy: 0.9808\n",
      "Test Loss: 0.1081230491399765\n",
      "Test Accuracy: 0.9807999730110168\n"
     ]
    }
   ],
   "source": [
    "# Evaluate the model on the test dataset\n",
    "test_loss, test_accuracy = model.evaluate(X_test, y_test)\n",
    "print(\"Test Loss:\", test_loss)\n",
    "print(\"Test Accuracy:\", test_accuracy)\n"
   ]
  },
  {
   "cell_type": "code",
   "execution_count": null,
   "metadata": {},
   "outputs": [],
   "source": []
  }
 ],
 "metadata": {
  "kernelspec": {
   "display_name": "itech7001",
   "language": "python",
   "name": "python3"
  },
  "language_info": {
   "codemirror_mode": {
    "name": "ipython",
    "version": 3
   },
   "file_extension": ".py",
   "mimetype": "text/x-python",
   "name": "python",
   "nbconvert_exporter": "python",
   "pygments_lexer": "ipython3",
   "version": "3.11.3"
  },
  "orig_nbformat": 4
 },
 "nbformat": 4,
 "nbformat_minor": 2
}
