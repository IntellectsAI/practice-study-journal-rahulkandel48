{
 "cells": [
  {
   "cell_type": "code",
   "execution_count": 1,
   "metadata": {},
   "outputs": [],
   "source": [
    "#Import the necessary modules:\n",
    "import numpy as np\n",
    "from sklearn.datasets import fetch_openml\n",
    "from sklearn.model_selection import train_test_split\n",
    "from sklearn.ensemble import RandomForestClassifier\n",
    "from sklearn.decomposition import PCA\n",
    "from sklearn.metrics import accuracy_score\n",
    "import time\n"
   ]
  },
  {
   "cell_type": "code",
   "execution_count": 2,
   "metadata": {},
   "outputs": [
    {
     "name": "stderr",
     "output_type": "stream",
     "text": [
      "/Users/rahulkandel/anaconda3/envs/itech7001/lib/python3.11/site-packages/sklearn/datasets/_openml.py:968: FutureWarning: The default value of `parser` will change from `'liac-arff'` to `'auto'` in 1.4. You can set `parser='auto'` to silence this warning. Therefore, an `ImportError` will be raised from 1.4 if the dataset is dense and pandas is not installed. Note that the pandas parser may return different data types. See the Notes Section in fetch_openml's API doc for details.\n",
      "  warn(\n"
     ]
    }
   ],
   "source": [
    "#Load the MNIST dataset and split it into training and test sets:\n",
    "mnist = fetch_openml('mnist_784', version=1)\n",
    "X, y = mnist[\"data\"], mnist[\"target\"]\n",
    "\n",
    "X_train, X_test, y_train, y_test = train_test_split(X, y, test_size=10000, random_state=42)"
   ]
  },
  {
   "cell_type": "code",
   "execution_count": 3,
   "metadata": {},
   "outputs": [],
   "source": [
    "#Train a Random Forest classifier on the training set and measure the training time:\n",
    "rf_clf = RandomForestClassifier(n_estimators=100, random_state=42)\n",
    "\n",
    "start_time = time.time()\n",
    "rf_clf.fit(X_train[:60000], y_train[:60000])\n",
    "training_time = time.time() - start_time\n"
   ]
  },
  {
   "cell_type": "code",
   "execution_count": 4,
   "metadata": {},
   "outputs": [],
   "source": [
    "#Evaluate the Random Forest classifier on the test set:\n",
    "y_pred = rf_clf.predict(X_test)\n",
    "accuracy = accuracy_score(y_test, y_pred)\n"
   ]
  },
  {
   "cell_type": "code",
   "execution_count": 5,
   "metadata": {},
   "outputs": [],
   "source": [
    "#Use PCA to reduce the dataset's dimensionality with an explained variance ratio of 95%:\n",
    "pca = PCA(n_components=0.95, random_state=42)\n",
    "X_train_reduced = pca.fit_transform(X_train[:60000])\n",
    "X_test_reduced = pca.transform(X_test)\n"
   ]
  },
  {
   "cell_type": "code",
   "execution_count": 6,
   "metadata": {},
   "outputs": [],
   "source": [
    "#Train a new Random Forest classifier on the reduced dataset and measure the training time:\n",
    "rf_clf_reduced = RandomForestClassifier(n_estimators=100, random_state=42)\n",
    "\n",
    "start_time_reduced = time.time()\n",
    "rf_clf_reduced.fit(X_train_reduced, y_train[:60000])\n",
    "training_time_reduced = time.time() - start_time_reduced\n"
   ]
  },
  {
   "cell_type": "code",
   "execution_count": 7,
   "metadata": {},
   "outputs": [],
   "source": [
    "#Evaluate the reduced classifier on the test set:\n",
    "y_pred_reduced = rf_clf_reduced.predict(X_test_reduced)\n",
    "accuracy_reduced = accuracy_score(y_test, y_pred_reduced)\n"
   ]
  },
  {
   "cell_type": "code",
   "execution_count": 8,
   "metadata": {},
   "outputs": [
    {
     "name": "stdout",
     "output_type": "stream",
     "text": [
      "Random Forest Classifier (Original Data):\n",
      "Training time: 22.596715927124023\n",
      "Accuracy: 0.9692\n",
      "\n",
      "Random Forest Classifier (Reduced Data using PCA):\n",
      "Training time (with PCA): 64.57694888114929\n",
      "Accuracy (with PCA): 0.9482\n"
     ]
    }
   ],
   "source": [
    "#Compare the results of both classifiers:\n",
    "print(\"Random Forest Classifier (Original Data):\")\n",
    "print(\"Training time:\", training_time)\n",
    "print(\"Accuracy:\", accuracy)\n",
    "\n",
    "print(\"\\nRandom Forest Classifier (Reduced Data using PCA):\")\n",
    "print(\"Training time (with PCA):\", training_time_reduced)\n",
    "print(\"Accuracy (with PCA):\", accuracy_reduced)\n"
   ]
  },
  {
   "cell_type": "code",
   "execution_count": null,
   "metadata": {},
   "outputs": [],
   "source": []
  }
 ],
 "metadata": {
  "kernelspec": {
   "display_name": "itech7001",
   "language": "python",
   "name": "python3"
  },
  "language_info": {
   "codemirror_mode": {
    "name": "ipython",
    "version": 3
   },
   "file_extension": ".py",
   "mimetype": "text/x-python",
   "name": "python",
   "nbconvert_exporter": "python",
   "pygments_lexer": "ipython3",
   "version": "3.11.3"
  },
  "orig_nbformat": 4
 },
 "nbformat": 4,
 "nbformat_minor": 2
}
