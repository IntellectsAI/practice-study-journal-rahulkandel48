{
 "cells": [
  {
   "cell_type": "code",
   "execution_count": 1,
   "metadata": {},
   "outputs": [],
   "source": [
    "#import necessary libraries\n",
    "import numpy as np\n",
    "from sklearn.datasets import fetch_california_housing\n",
    "from sklearn.model_selection import train_test_split\n",
    "from sklearn.preprocessing import StandardScaler\n",
    "from sklearn.svm import SVR\n",
    "from sklearn.metrics import mean_squared_error"
   ]
  },
  {
   "attachments": {},
   "cell_type": "markdown",
   "metadata": {},
   "source": [
    "Load the california housing dataset"
   ]
  },
  {
   "cell_type": "code",
   "execution_count": 2,
   "metadata": {},
   "outputs": [],
   "source": [
    "data = fetch_california_housing()\n",
    "X = data.data\n",
    "y = data.target"
   ]
  },
  {
   "cell_type": "code",
   "execution_count": 3,
   "metadata": {},
   "outputs": [],
   "source": [
    "X_train, X_test, y_train, y_test = train_test_split(X, y, test_size=0.2, random_state=42)\n"
   ]
  },
  {
   "cell_type": "code",
   "execution_count": 4,
   "metadata": {},
   "outputs": [],
   "source": [
    "#scaling train and test data\n",
    "scaler = StandardScaler()\n",
    "X_train_scaled = scaler.fit_transform(X_train)\n",
    "X_test_scaled = scaler.transform(X_test)"
   ]
  },
  {
   "cell_type": "code",
   "execution_count": 5,
   "metadata": {},
   "outputs": [
    {
     "name": "stdout",
     "output_type": "stream",
     "text": [
      "Linear Kernel (C=0.1): Mean Squared Error = 0.5795038761773829\n",
      "Linear Kernel (C=1): Mean Squared Error = 0.579241919465859\n",
      "Linear Kernel (C=10): Mean Squared Error = 0.5792437910300487\n",
      "Linear Kernel (C=100): Mean Squared Error = 0.5795028155043156\n"
     ]
    }
   ],
   "source": [
    "# Linear Kernel with different C values\n",
    "c_values = [ 0.1, 1, 10, 100]\n",
    "\n",
    "for c in c_values:\n",
    "    svm_regressor = SVR(kernel='linear', C=c)\n",
    "    svm_regressor.fit(X_train_scaled, y_train)\n",
    "    y_pred = svm_regressor.predict(X_test_scaled)\n",
    "    mse = mean_squared_error(y_test, y_pred)\n",
    "    print(f\"Linear Kernel (C={c}): Mean Squared Error = {mse}\")\n"
   ]
  },
  {
   "cell_type": "code",
   "execution_count": 6,
   "metadata": {},
   "outputs": [
    {
     "name": "stdout",
     "output_type": "stream",
     "text": [
      "RBF Kernel (C=0.1, gamma=0.1): Mean Squared Error = 0.4242716490862168\n",
      "RBF Kernel (C=0.1, gamma=1): Mean Squared Error = 0.430138162869705\n",
      "RBF Kernel (C=0.1, gamma=10): Mean Squared Error = 1.0704567571140304\n",
      "RBF Kernel (C=0.1, gamma=100): Mean Squared Error = 1.3710024220405568\n",
      "RBF Kernel (C=1, gamma=0.1): Mean Squared Error = 0.3658014550273028\n",
      "RBF Kernel (C=1, gamma=1): Mean Squared Error = 0.3252060382958034\n",
      "RBF Kernel (C=1, gamma=10): Mean Squared Error = 0.6848705984065283\n",
      "RBF Kernel (C=1, gamma=100): Mean Squared Error = 1.3107060974918467\n",
      "RBF Kernel (C=10, gamma=0.1): Mean Squared Error = 0.33137918572087377\n",
      "RBF Kernel (C=10, gamma=1): Mean Squared Error = 0.31399438739818136\n",
      "RBF Kernel (C=10, gamma=10): Mean Squared Error = 0.6500154298080998\n",
      "RBF Kernel (C=10, gamma=100): Mean Squared Error = 1.280372433609647\n",
      "RBF Kernel (C=100, gamma=0.1): Mean Squared Error = 0.3244983396623107\n",
      "RBF Kernel (C=100, gamma=1): Mean Squared Error = 0.38210454588792137\n",
      "RBF Kernel (C=100, gamma=10): Mean Squared Error = 0.6545690844723396\n",
      "RBF Kernel (C=100, gamma=100): Mean Squared Error = 1.280372433609647\n"
     ]
    }
   ],
   "source": [
    "# RBF Kernel with different C and gamma values\n",
    "c_values = [ 0.1, 1, 10, 100]\n",
    "gamma_values = [ 0.1, 1, 10, 100]\n",
    "\n",
    "for c in c_values:\n",
    "    for gamma in gamma_values:\n",
    "        svm_regressor = SVR(kernel='rbf', C=c, gamma=gamma)\n",
    "        svm_regressor.fit(X_train_scaled, y_train)\n",
    "        y_pred = svm_regressor.predict(X_test_scaled)\n",
    "        mse = mean_squared_error(y_test, y_pred)\n",
    "        print(f\"RBF Kernel (C={c}, gamma={gamma}): Mean Squared Error = {mse}\")"
   ]
  },
  {
   "cell_type": "code",
   "execution_count": null,
   "metadata": {},
   "outputs": [],
   "source": []
  }
 ],
 "metadata": {
  "kernelspec": {
   "display_name": "itech7001",
   "language": "python",
   "name": "python3"
  },
  "language_info": {
   "codemirror_mode": {
    "name": "ipython",
    "version": 3
   },
   "file_extension": ".py",
   "mimetype": "text/x-python",
   "name": "python",
   "nbconvert_exporter": "python",
   "pygments_lexer": "ipython3",
   "version": "3.11.3"
  },
  "orig_nbformat": 4
 },
 "nbformat": 4,
 "nbformat_minor": 2
}
